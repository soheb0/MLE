{
 "cells": [
  {
   "cell_type": "code",
   "execution_count": 1,
   "metadata": {},
   "outputs": [],
   "source": [
    "import numpy as np;"
   ]
  },
  {
   "cell_type": "code",
   "execution_count": 2,
   "metadata": {},
   "outputs": [],
   "source": [
    "import random;"
   ]
  },
  {
   "cell_type": "code",
   "execution_count": 3,
   "metadata": {},
   "outputs": [],
   "source": [
    "import sys;"
   ]
  },
  {
   "cell_type": "code",
   "execution_count": 4,
   "metadata": {},
   "outputs": [],
   "source": [
    "towns = np.random.randint(1,10, size=(100,100))"
   ]
  },
  {
   "cell_type": "code",
   "execution_count": 5,
   "metadata": {},
   "outputs": [],
   "source": [
    "np.fill_diagonal(towns, 0);"
   ]
  },
  {
   "cell_type": "code",
   "execution_count": 6,
   "metadata": {},
   "outputs": [],
   "source": [
    "def setEqualDistance():\n",
    "    for x in range(0, 100):\n",
    "        for y in range(0,100):\n",
    "            towns[x][y] = towns[y][x];"
   ]
  },
  {
   "cell_type": "code",
   "execution_count": 7,
   "metadata": {},
   "outputs": [],
   "source": [
    "setEqualDistance();"
   ]
  },
  {
   "cell_type": "code",
   "execution_count": 8,
   "metadata": {},
   "outputs": [],
   "source": [
    "def calcDistance(reise):\n",
    "    distance = 0;\n",
    "    for x in range(0, 99):\n",
    "        distance += towns[reise[x]][reise[x+1]];\n",
    "    negative = -distance;\n",
    "    return negative;"
   ]
  },
  {
   "cell_type": "code",
   "execution_count": 9,
   "metadata": {},
   "outputs": [],
   "source": [
    "def randomTour():\n",
    "    randTour = list(range(100));\n",
    "    random.shuffle(randTour);\n",
    "    return randTour;"
   ]
  },
  {
   "cell_type": "code",
   "execution_count": 14,
   "metadata": {},
   "outputs": [],
   "source": [
    "def hillClimbing():\n",
    "    temp = 1000;\n",
    "    currentTour = calcDistance(randomTour());\n",
    "    while temp > sys.float_info.epsilon:\n",
    "        newTour = calcDistance(randomTour());\n",
    "        if newTour > currentTour:\n",
    "            currentTour = newTour;\n",
    "            print (currentTour);\n",
    "        elif (random.uniform(0, 1)) < np.exp((newTour-currentTour)/temp):\n",
    "            print(np.exp((newTour-currentTour)/temp));\n",
    "            currentTour = newTour;\n",
    "            print (currentTour);\n",
    "        temp = temp - sys.float_info.epsilon;\n",
    "    return currentTour;"
   ]
  },
  {
   "cell_type": "code",
   "execution_count": null,
   "metadata": {},
   "outputs": [],
   "source": [
    "test = hillClimbing();"
   ]
  }
 ],
 "metadata": {
  "kernelspec": {
   "display_name": "Python 3",
   "language": "python",
   "name": "python3"
  },
  "language_info": {
   "codemirror_mode": {
    "name": "ipython",
    "version": 3
   },
   "file_extension": ".py",
   "mimetype": "text/x-python",
   "name": "python",
   "nbconvert_exporter": "python",
   "pygments_lexer": "ipython3",
   "version": "3.7.0"
  }
 },
 "nbformat": 4,
 "nbformat_minor": 2
}
