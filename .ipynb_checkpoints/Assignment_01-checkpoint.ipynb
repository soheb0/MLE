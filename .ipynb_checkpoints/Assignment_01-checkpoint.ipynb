{
 "cells": [
  {
   "cell_type": "code",
   "execution_count": 14,
   "metadata": {},
   "outputs": [],
   "source": [
    "import numpy as np;"
   ]
  },
  {
   "cell_type": "code",
   "execution_count": 15,
   "metadata": {},
   "outputs": [],
   "source": [
    "import random;"
   ]
  },
  {
   "cell_type": "code",
   "execution_count": 16,
   "metadata": {},
   "outputs": [],
   "source": [
    "towns = np.random.randint(1,10, size=(100,100))"
   ]
  },
  {
   "cell_type": "code",
   "execution_count": 17,
   "metadata": {},
   "outputs": [],
   "source": [
    "np.fill_diagonal(towns, 0);"
   ]
  },
  {
   "cell_type": "code",
   "execution_count": 18,
   "metadata": {},
   "outputs": [],
   "source": [
    "def setEqualDistance():\n",
    "    for x in range(0, 100):\n",
    "        for y in range(0,100):\n",
    "            towns[x][y] = towns[y][x];"
   ]
  },
  {
   "cell_type": "code",
   "execution_count": 19,
   "metadata": {},
   "outputs": [],
   "source": [
    "setEqualDistance();"
   ]
  },
  {
   "cell_type": "code",
   "execution_count": 20,
   "metadata": {},
   "outputs": [],
   "source": [
    "def calcDistance(reise):\n",
    "    distance = 0;\n",
    "    for x in range(0, 99):\n",
    "        distance += towns[reise[x]][reise[x+1]];\n",
    "    negative = -distance;\n",
    "    return negative;"
   ]
  },
  {
   "cell_type": "code",
   "execution_count": 21,
   "metadata": {},
   "outputs": [],
   "source": [
    "def randomTour():\n",
    "    randTour = list(range(100));\n",
    "    random.shuffle(randTour);\n",
    "    return randTour;"
   ]
  },
  {
   "cell_type": "code",
   "execution_count": 61,
   "metadata": {},
   "outputs": [],
   "source": [
    "def hillClimbing():\n",
    "    treshold = 1000;\n",
    "    currentTour = calcDistance(randomTour());\n",
    "    i = 0;\n",
    "    while i < treshold:\n",
    "        newTour = calcDistance(randomTour());\n",
    "        if newTour > currentTour:\n",
    "            i = 0;\n",
    "            currentTour = newTour;\n",
    "            print (currentTour);\n",
    "        else:\n",
    "            i = i + 1\n",
    "    return currentTour;"
   ]
  },
  {
   "cell_type": "code",
   "execution_count": 62,
   "metadata": {},
   "outputs": [
    {
     "name": "stdout",
     "output_type": "stream",
     "text": [
      "-488\n",
      "-481\n",
      "-447\n",
      "-445\n",
      "-437\n",
      "-428\n",
      "-424\n",
      "-399\n"
     ]
    }
   ],
   "source": [
    "test = hillClimbing();"
   ]
  },
  {
   "cell_type": "code",
   "execution_count": null,
   "metadata": {},
   "outputs": [],
   "source": []
  }
 ],
 "metadata": {
  "kernelspec": {
   "display_name": "Python 3",
   "language": "python",
   "name": "python3"
  },
  "language_info": {
   "codemirror_mode": {
    "name": "ipython",
    "version": 3
   },
   "file_extension": ".py",
   "mimetype": "text/x-python",
   "name": "python",
   "nbconvert_exporter": "python",
   "pygments_lexer": "ipython3",
   "version": "3.7.0"
  }
 },
 "nbformat": 4,
 "nbformat_minor": 2
}
